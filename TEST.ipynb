{
 "cells": [
  {
   "cell_type": "code",
   "execution_count": 1,
   "id": "c280f939",
   "metadata": {},
   "outputs": [
    {
     "name": "stdout",
     "output_type": "stream",
     "text": [
      "Hello world\n"
     ]
    }
   ],
   "source": [
    "print(\"Hello world\")"
   ]
  },
  {
   "cell_type": "code",
   "execution_count": 8,
   "id": "eebf0b67",
   "metadata": {},
   "outputs": [
    {
     "data": {
      "text/html": [
       "<div>\n",
       "<style scoped>\n",
       "    .dataframe tbody tr th:only-of-type {\n",
       "        vertical-align: middle;\n",
       "    }\n",
       "\n",
       "    .dataframe tbody tr th {\n",
       "        vertical-align: top;\n",
       "    }\n",
       "\n",
       "    .dataframe thead th {\n",
       "        text-align: right;\n",
       "    }\n",
       "</style>\n",
       "<table border=\"1\" class=\"dataframe\">\n",
       "  <thead>\n",
       "    <tr style=\"text-align: right;\">\n",
       "      <th></th>\n",
       "      <th>ID</th>\n",
       "      <th>Name</th>\n",
       "      <th>Department</th>\n",
       "      <th>Age</th>\n",
       "      <th>Performance Score</th>\n",
       "      <th>Salary ($)</th>\n",
       "      <th>Joined Year</th>\n",
       "    </tr>\n",
       "  </thead>\n",
       "  <tbody>\n",
       "    <tr>\n",
       "      <th>0</th>\n",
       "      <td>101</td>\n",
       "      <td>Alice Owusu</td>\n",
       "      <td>Engineering</td>\n",
       "      <td>29</td>\n",
       "      <td>82</td>\n",
       "      <td>54000</td>\n",
       "      <td>2019</td>\n",
       "    </tr>\n",
       "    <tr>\n",
       "      <th>1</th>\n",
       "      <td>102</td>\n",
       "      <td>Kofi Mensah</td>\n",
       "      <td>Marketing</td>\n",
       "      <td>34</td>\n",
       "      <td>76</td>\n",
       "      <td>48500</td>\n",
       "      <td>2021</td>\n",
       "    </tr>\n",
       "    <tr>\n",
       "      <th>2</th>\n",
       "      <td>103</td>\n",
       "      <td>Esi Nyarko</td>\n",
       "      <td>HR</td>\n",
       "      <td>27</td>\n",
       "      <td>90</td>\n",
       "      <td>47000</td>\n",
       "      <td>2020</td>\n",
       "    </tr>\n",
       "    <tr>\n",
       "      <th>3</th>\n",
       "      <td>104</td>\n",
       "      <td>Yaw Boateng</td>\n",
       "      <td>Finance</td>\n",
       "      <td>31</td>\n",
       "      <td>88</td>\n",
       "      <td>52000</td>\n",
       "      <td>2018</td>\n",
       "    </tr>\n",
       "    <tr>\n",
       "      <th>4</th>\n",
       "      <td>105</td>\n",
       "      <td>Nana Ama</td>\n",
       "      <td>Engineering</td>\n",
       "      <td>26</td>\n",
       "      <td>79</td>\n",
       "      <td>56000</td>\n",
       "      <td>2022</td>\n",
       "    </tr>\n",
       "  </tbody>\n",
       "</table>\n",
       "</div>"
      ],
      "text/plain": [
       "    ID         Name   Department  Age  Performance Score  Salary ($)  \\\n",
       "0  101  Alice Owusu  Engineering   29                 82       54000   \n",
       "1  102  Kofi Mensah    Marketing   34                 76       48500   \n",
       "2  103   Esi Nyarko           HR   27                 90       47000   \n",
       "3  104  Yaw Boateng      Finance   31                 88       52000   \n",
       "4  105     Nana Ama  Engineering   26                 79       56000   \n",
       "\n",
       "   Joined Year  \n",
       "0         2019  \n",
       "1         2021  \n",
       "2         2020  \n",
       "3         2018  \n",
       "4         2022  "
      ]
     },
     "execution_count": 8,
     "metadata": {},
     "output_type": "execute_result"
    }
   ],
   "source": [
    "import pandas as pd\n",
    "\n",
    "data = [\n",
    "    {\"ID\": 101, \"Name\": \"Alice Owusu\", \"Department\": \"Engineering\", \"Age\": 29, \"Performance Score\": 82, \"Salary ($)\": 54000, \"Joined Year\": 2019},\n",
    "    {\"ID\": 102, \"Name\": \"Kofi Mensah\", \"Department\": \"Marketing\", \"Age\": 34, \"Performance Score\": 76, \"Salary ($)\": 48500, \"Joined Year\": 2021},\n",
    "    {\"ID\": 103, \"Name\": \"Esi Nyarko\", \"Department\": \"HR\", \"Age\": 27, \"Performance Score\": 90, \"Salary ($)\": 47000, \"Joined Year\": 2020},\n",
    "    {\"ID\": 104, \"Name\": \"Yaw Boateng\", \"Department\": \"Finance\", \"Age\": 31, \"Performance Score\": 88, \"Salary ($)\": 52000, \"Joined Year\": 2018},\n",
    "    {\"ID\": 105, \"Name\": \"Nana Ama\", \"Department\": \"Engineering\", \"Age\": 26, \"Performance Score\": 79, \"Salary ($)\": 56000, \"Joined Year\": 2022},\n",
    "    {\"ID\": 106, \"Name\": \"Kojo Asare\", \"Department\": \"IT\", \"Age\": 35, \"Performance Score\": 84, \"Salary ($)\": 60000, \"Joined Year\": 2017},\n",
    "    {\"ID\": 107, \"Name\": \"Akua Dede\", \"Department\": \"Marketing\", \"Age\": 30, \"Performance Score\": 73, \"Salary ($)\": 49000, \"Joined Year\": 2023},\n",
    "    {\"ID\": 108, \"Name\": \"Daniel Ofori\", \"Department\": \"HR\", \"Age\": 28, \"Performance Score\": 95, \"Salary ($)\": 53000, \"Joined Year\": 2019},\n",
    "    {\"ID\": 109, \"Name\": \"Abena Serwaa\", \"Department\": \"Finance\", \"Age\": 33, \"Performance Score\": 81, \"Salary ($)\": 51000, \"Joined Year\": 2020},\n",
    "    {\"ID\": 110, \"Name\": \"Kwame Appiah\", \"Department\": \"IT\", \"Age\": 32, \"Performance Score\": 77, \"Salary ($)\": 58000, \"Joined Year\": 2021}\n",
    "]\n",
    "\n",
    "# Convert to DataFrame\n",
    "df = pd.DataFrame(data)\n",
    "\n",
    "# View the first few rows\n",
    "df.head()\n"
   ]
  },
  {
   "cell_type": "code",
   "execution_count": 6,
   "id": "c16c83db",
   "metadata": {},
   "outputs": [],
   "source": [
    "import matplotlib.pyplot as plt"
   ]
  },
  {
   "cell_type": "code",
   "execution_count": null,
   "id": "65a2fabf",
   "metadata": {},
   "outputs": [
    {
     "data": {
      "image/png": "[encoded data removed]",
      "text/plain": [
       "<Figure size 640x480 with 1 Axes>"
      ]
     },
     "metadata": {},
     "output_type": "display_data"
    }
   ],
   "source": [
    "plt.scatter(df[\"ID\"], df[\"Salary ($)\"])\n",
    "plt.xlabel(\"ID for Employees\")\n",
    "plt.ylabel(\"SALARIES\")\n",
    "plt.show()"
   ]
  }
 ],
 "metadata": {
  "kernelspec": {
   "display_name": "base",
   "language": "python",
   "name": "python3"
  },
  "language_info": {
   "codemirror_mode": {
    "name": "ipython",
    "version": 3
   },
   "file_extension": ".py",
   "mimetype": "text/x-python",
   "name": "python",
   "nbconvert_exporter": "python",
   "pygments_lexer": "ipython3",
   "version": "3.12.7"
  }
 },
 "nbformat": 4,
 "nbformat_minor": 5
}
